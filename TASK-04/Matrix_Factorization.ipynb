{
 "cells": [
  {
   "cell_type": "markdown",
   "id": "520dc3e3",
   "metadata": {},
   "source": [
    "Build a Recommendation System using Collaborative Filtering or Matrix Factorization.\n"
   ]
  },
  {
   "cell_type": "code",
   "execution_count": 2,
   "id": "d5f1adbf",
   "metadata": {},
   "outputs": [
    {
     "name": "stdout",
     "output_type": "stream",
     "text": [
      "   userId  movieId  rating  timestamp\n",
      "0       1        1     4.0  964982703\n",
      "1       1        3     4.0  964981247\n",
      "2       1        6     4.0  964982224\n",
      "3       1       47     5.0  964983815\n",
      "4       1       50     5.0  964982931\n",
      "\n",
      "Shape: (100836, 4)\n"
     ]
    }
   ],
   "source": [
    "import pandas as pd\n",
    "\n",
    "# Load movie ratings dataset\n",
    "ratings_url = 'https://raw.githubusercontent.com/smanihwr/ml-latest-small/master/ratings.csv'\n",
    "df = pd.read_csv(ratings_url)\n",
    "\n",
    "print(df.head())\n",
    "print(\"\\nShape:\", df.shape)\n"
   ]
  },
  {
   "cell_type": "code",
   "execution_count": 3,
   "id": "eec2db01",
   "metadata": {},
   "outputs": [
    {
     "name": "stdout",
     "output_type": "stream",
     "text": [
      "movieId  1       2       3       4       5       6       7       8       \\\n",
      "userId                                                                    \n",
      "1           4.0     0.0     4.0     0.0     0.0     4.0     0.0     0.0   \n",
      "2           0.0     0.0     0.0     0.0     0.0     0.0     0.0     0.0   \n",
      "3           0.0     0.0     0.0     0.0     0.0     0.0     0.0     0.0   \n",
      "4           0.0     0.0     0.0     0.0     0.0     0.0     0.0     0.0   \n",
      "5           4.0     0.0     0.0     0.0     0.0     0.0     0.0     0.0   \n",
      "\n",
      "movieId  9       10      ...  193565  193567  193571  193573  193579  193581  \\\n",
      "userId                   ...                                                   \n",
      "1           0.0     0.0  ...     0.0     0.0     0.0     0.0     0.0     0.0   \n",
      "2           0.0     0.0  ...     0.0     0.0     0.0     0.0     0.0     0.0   \n",
      "3           0.0     0.0  ...     0.0     0.0     0.0     0.0     0.0     0.0   \n",
      "4           0.0     0.0  ...     0.0     0.0     0.0     0.0     0.0     0.0   \n",
      "5           0.0     0.0  ...     0.0     0.0     0.0     0.0     0.0     0.0   \n",
      "\n",
      "movieId  193583  193585  193587  193609  \n",
      "userId                                   \n",
      "1           0.0     0.0     0.0     0.0  \n",
      "2           0.0     0.0     0.0     0.0  \n",
      "3           0.0     0.0     0.0     0.0  \n",
      "4           0.0     0.0     0.0     0.0  \n",
      "5           0.0     0.0     0.0     0.0  \n",
      "\n",
      "[5 rows x 9724 columns]\n"
     ]
    }
   ],
   "source": [
    "user_item_matrix = df.pivot_table(index='userId', columns='movieId', values='rating')\n",
    "user_item_matrix.fillna(0, inplace=True)\n",
    "\n",
    "print(user_item_matrix.head())\n"
   ]
  },
  {
   "cell_type": "code",
   "execution_count": 4,
   "id": "7e97a7cf",
   "metadata": {},
   "outputs": [
    {
     "name": "stdout",
     "output_type": "stream",
     "text": [
      "userId       1         2         3         4         5         6         7    \\\n",
      "userId                                                                         \n",
      "1       1.000000  0.027283  0.059720  0.194395  0.129080  0.128152  0.158744   \n",
      "2       0.027283  1.000000  0.000000  0.003726  0.016614  0.025333  0.027585   \n",
      "3       0.059720  0.000000  1.000000  0.002251  0.005020  0.003936  0.000000   \n",
      "4       0.194395  0.003726  0.002251  1.000000  0.128659  0.088491  0.115120   \n",
      "5       0.129080  0.016614  0.005020  0.128659  1.000000  0.300349  0.108342   \n",
      "\n",
      "userId       8         9         10   ...       601       602       603  \\\n",
      "userId                                ...                                 \n",
      "1       0.136968  0.064263  0.016875  ...  0.080554  0.164455  0.221486   \n",
      "2       0.027257  0.000000  0.067445  ...  0.202671  0.016866  0.011997   \n",
      "3       0.004941  0.000000  0.000000  ...  0.005048  0.004892  0.024992   \n",
      "4       0.062969  0.011361  0.031163  ...  0.085938  0.128273  0.307973   \n",
      "5       0.429075  0.000000  0.030611  ...  0.068048  0.418747  0.110148   \n",
      "\n",
      "userId       604       605       606       607       608       609       610  \n",
      "userId                                                                        \n",
      "1       0.070669  0.153625  0.164191  0.269389  0.291097  0.093572  0.145321  \n",
      "2       0.000000  0.000000  0.028429  0.012948  0.046211  0.027565  0.102427  \n",
      "3       0.000000  0.010694  0.012993  0.019247  0.021128  0.000000  0.032119  \n",
      "4       0.052985  0.084584  0.200395  0.131746  0.149858  0.032198  0.107683  \n",
      "5       0.258773  0.148758  0.106435  0.152866  0.135535  0.261232  0.060792  \n",
      "\n",
      "[5 rows x 610 columns]\n"
     ]
    }
   ],
   "source": [
    "from sklearn.metrics.pairwise import cosine_similarity\n",
    "\n",
    "# Compute cosine similarity between users\n",
    "user_similarity = cosine_similarity(user_item_matrix)\n",
    "user_similarity_df = pd.DataFrame(user_similarity, index=user_item_matrix.index, columns=user_item_matrix.index)\n",
    "\n",
    "print(user_similarity_df.head())\n"
   ]
  },
  {
   "cell_type": "code",
   "execution_count": 5,
   "id": "f739ac20",
   "metadata": {},
   "outputs": [
    {
     "name": "stdout",
     "output_type": "stream",
     "text": [
      "318     215.449703\n",
      "589     169.401182\n",
      "858     150.915327\n",
      "2762    135.009864\n",
      "4993    131.865541\n",
      "dtype: float64\n"
     ]
    }
   ],
   "source": [
    "def recommend_movies(user_id, num_recommendations=5):\n",
    "    similar_users = user_similarity_df[user_id].sort_values(ascending=False)[1:]\n",
    "    \n",
    "    recommended_movies = pd.Series(dtype='float64')\n",
    "\n",
    "    for similar_user, similarity_score in similar_users.items():\n",
    "        user_movies = user_item_matrix.loc[similar_user]\n",
    "        user_movies = user_movies[user_movies > 0]\n",
    "        for movie, rating in user_movies.items():\n",
    "            if user_item_matrix.loc[user_id, movie] == 0:  # If user hasn't watched it\n",
    "                if movie in recommended_movies:\n",
    "                    recommended_movies[movie] += similarity_score * rating\n",
    "                else:\n",
    "                    recommended_movies[movie] = similarity_score * rating\n",
    "\n",
    "    recommended_movies = recommended_movies.sort_values(ascending=False).head(num_recommendations)\n",
    "    return recommended_movies\n",
    "\n",
    "# Example: Recommendations for user 1\n",
    "recommendations = recommend_movies(1)\n",
    "print(recommendations)\n"
   ]
  }
 ],
 "metadata": {
  "kernelspec": {
   "display_name": "Python 3",
   "language": "python",
   "name": "python3"
  },
  "language_info": {
   "codemirror_mode": {
    "name": "ipython",
    "version": 3
   },
   "file_extension": ".py",
   "mimetype": "text/x-python",
   "name": "python",
   "nbconvert_exporter": "python",
   "pygments_lexer": "ipython3",
   "version": "3.12.3"
  }
 },
 "nbformat": 4,
 "nbformat_minor": 5
}
